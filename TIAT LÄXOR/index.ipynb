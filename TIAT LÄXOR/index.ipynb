{
 "metadata": {
  "language_info": {
   "codemirror_mode": {
    "name": "ipython",
    "version": 3
   },
   "file_extension": ".py",
   "mimetype": "text/x-python",
   "name": "python",
   "nbconvert_exporter": "python",
   "pygments_lexer": "ipython3",
   "version": "3.8.3-final"
  },
  "orig_nbformat": 2,
  "kernelspec": {
   "name": "python3",
   "display_name": "Python 3.8.3 64-bit (conda)",
   "metadata": {
    "interpreter": {
     "hash": "fe2dbafc7bd5ad380c3b5774b6ffac6224a3e97f600733360e641e44ed102b43"
    }
   }
  }
 },
 "nbformat": 4,
 "nbformat_minor": 2,
 "cells": [
  {
   "cell_type": "code",
   "execution_count": null,
   "metadata": {},
   "outputs": [],
   "source": []
  },
  {
   "cell_type": "code",
   "execution_count": 5,
   "metadata": {},
   "outputs": [
    {
     "output_type": "stream",
     "name": "stdout",
     "text": [
      "1 2 3 4 5 6 7 8 9 10 3628800\n"
     ]
    }
   ],
   "source": [
    "#Skriv ut alla tal från 1 till 10, i steg om 2, med hjälp av en for-loop. Multiplicera sedan värdet på alla dessa tal och skriv ut svaret.\n",
    "\n",
    "summa=1\n",
    "for i in range(1,11):\n",
    "    print(i, end=\" \")\n",
    "    summa*=i\n",
    "else:\n",
    "    print(summa)\n",
    "    #jag börjar med att sätta ett värde på ett tal som jag sedan kan mutliplcerera summan med, där den mutliplicerar med alla som blir printade vilket är 1-10. "
   ]
  },
  {
   "cell_type": "code",
   "execution_count": 3,
   "metadata": {},
   "outputs": [
    {
     "output_type": "stream",
     "name": "stdout",
     "text": [
      "0\n1\n2\n3\n4\n5\n6\n7\n8\n9\n10\n11\n12\n13\n14\n15579.67416600765\n"
     ]
    }
   ],
   "source": [
    "#Ulf har satt in 10 000kr på ett konto med 3 % årlig ränta, hur mycket pengar finns på kontot efter 15 år? Inga fler insättningar görs. Välj själv hur du vill skriva ut svaret, med en enda rad efter färdig uträkning eller en rad för varje år.\n",
    "summa = 10000\n",
    "år=15\n",
    "förändringsfaktor=1.03\n",
    "for i in range(år):\n",
    "    print(i)\n",
    "    summa *=1.03\n",
    "else:\n",
    "    summa * förändringsfaktor**år\n",
    "    print(summa)\n",
    "    #i denna uppgiften sätter jag summan med antalet kr, åren och förändringsfaktorn som jag sedan ska mutliplicera summan med. Jag sätter sedan in åren i en for loop där den ska mutliplcera summan med förändringsfaktorn för 15 år. "
   ]
  },
  {
   "source": [
    "#Skapa en multiplikationstabell som ritar ut alla tal upp till tians multiplikationstabell. Viktigt här är att göra en bra formatering så att alla siffror inte flyter ihop. Se gärna exempelutskrift nedan.\n",
    "\n",
    "n=int(input('Valfritt heltal: '))\n",
    "for row in range(1,n+1):\n",
    "    if n < 16:\n",
    "        print(*(\"{:3}\".format(row*i) for i in range(1, n+1)))\n",
    "    else:\n",
    "         print(f\"För Högt!!\")\n",
    "         break\n",
    "\n",
    "#Alla tar under 15 ska gå att skrivas in och multipliceras som i multiplikationstabellen."
   ],
   "cell_type": "code",
   "metadata": {},
   "execution_count": 138,
   "outputs": [
    {
     "output_type": "stream",
     "name": "stdout",
     "text": [
      "  1   2   3   4   5\n  2   4   6   8  10\n  3   6   9  12  15\n  4   8  12  16  20\n  5  10  15  20  25\n"
     ]
    }
   ]
  },
  {
   "cell_type": "code",
   "execution_count": 71,
   "metadata": {},
   "outputs": [
    {
     "output_type": "stream",
     "name": "stdout",
     "text": [
      "3 3 3\n6 6 6\n9 9 9\n"
     ]
    }
   ],
   "source": [
    "#Bygg vidare på multiplikationstabellen som vi gjorde tidigare. Det talet som användaren matar in är det antal multiplikationstabeller som skall skrivas ut. Om användaren skriver in 3 så skall fört multiplikationstabellen för 1x1 skrivas ut, sedan för 2x2 och slutligen för 3x3.\n",
    "\n",
    "n=int(input('Valfritt heltal: '))\n",
    "for row in range(1,n+1):\n",
    "    if n ==1:\n",
    "        print(*(\"{:3}\".format(row*i) for i in range(1, n+1)))\n",
    "    else:\n",
    "        print(*(\"{:n}\".format(row*n) for i in range(1, n+1)))\n",
    "\n",
    "#Jag vill printa ut så som i förra uppgiften, bara att i denna uppgiften vill jag multiplicera det jag printar ut som är >1 ska multipliceras med det valfria numret. "
   ]
  },
  {
   "cell_type": "code",
   "execution_count": 118,
   "metadata": {},
   "outputs": [
    {
     "output_type": "stream",
     "name": "stdout",
     "text": [
      "10 9 8 7 6 5 4 3 2 1 3628800\n"
     ]
    }
   ],
   "source": [
    "#Uppgift: m04u04\n",
    "#Skriv ut alla tal från 10 till 1 med hjälp av en while-loop. Multiplicera sedan värdet på alla dessa tal och skriv ut svaret.\n",
    "\n",
    "summa=1\n",
    "for i in range(10,1-1,-1):\n",
    "    print(i, end=\" \")\n",
    "    summa*=i\n",
    "else:\n",
    "    print(summa)"
   ]
  },
  {
   "cell_type": "code",
   "execution_count": null,
   "metadata": {
    "tags": []
   },
   "outputs": [],
   "source": [
    "#Uppgift: m04u05 \n",
    "#Antalet råttor i en stad är 100 stycken, varje månad dubblas populationen av råttor, hur många månader dröjer det innan det finns en miljon råttor i staden? Lös uppgiften med en while-loop.\n",
    "\n",
    "råttor=100\n",
    "förändringsfaktor=2\n",
    "antal=1000000\n",
    "\n",
    "#för att räkna ut antalet månader så måste man räkna slutvärdet / nuvarande värdet * förändringsfaktorn. (1000000/100*2)\n",
    "\n",
    "#detta kan jag sedan sätta in i en for sats \n",
    "\n",
    "for råttor in range(antal):\n",
    "    råttor*=förändringsfaktor\n",
    "    print(råttor)\n",
    "\n",
    "#så jag sätter in råttor (100st) i antalet (1 milion) och sedan tar jag råttor * förändingsfaktorn i antalet så borde man få antalet månader tills det blir 1000000 råttor."
   ]
  },
  {
   "cell_type": "code",
   "execution_count": null,
   "metadata": {},
   "outputs": [],
   "source": [
    "#Uppgift: m04u06\n",
    "#Låt användaren mata in följande tal;\n",
    "#Ett tal som loopen skall börja med.\n",
    "#Ett tal som loopen skall avsluta med.\n",
    "#Ett tal som inte skall skrivas ut.\n",
    "#Ett tal som skall avbryta loopen.\n",
    "\n",
    "a=int(input(\"ange ett start tal\"))\n",
    "b=int(input(\"ange ett slut tal\"))\n",
    "c=int(input(\"ange ett tal som inte ska skrivas ut\"))\n",
    "d=int(input(\"ange ett tal som ska avbryta loopen\"))\n",
    "\n",
    "for i in range(b,a):\n",
    "    %c==0:\n",
    "    d==break:\n",
    "        print(i)\n"
   ]
  },
  {
   "cell_type": "code",
   "execution_count": null,
   "metadata": {},
   "outputs": [],
   "source": [
    "#Uppgift: m04u07 (svårare)\n",
    "#Bygg vidare på m04u06 så att användaren inte kan mata in felaktiga värden. Kolla både att datatypen är rätt men också att de inmatade värdena är korrekta i förhållande till varandra, alltså att stoppvärdet är större än startvärdet (annars måste vi förändra steglängden så att den blir negativ) och att tal som skall hoppas över och avbryta loopen måste finnas inom intervallet mellan start- och stoppvärdet.\n",
    "\n"
   ]
  }
 ]
}